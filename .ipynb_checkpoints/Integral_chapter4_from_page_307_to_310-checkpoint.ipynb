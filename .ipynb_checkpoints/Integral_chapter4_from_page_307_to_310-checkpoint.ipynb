{
 "cells": [
  {
   "cell_type": "markdown",
   "metadata": {},
   "source": [
    "# 4.3 적분\n",
    "- 부정적분 \n",
    "- 편미분의 부정적분\n",
    "- 정적분 \n",
    "- 수치적분\n",
    "- 다변수 정적분"
   ]
  },
  {
   "cell_type": "code",
   "execution_count": 4,
   "metadata": {},
   "outputs": [],
   "source": [
    "from matplotlib.patches import Polygon\n",
    "import matplotlib.pyplot as plt\n",
    "import numpy as np\n",
    "from scipy.optimize import fsolve\n",
    "import sympy\n",
    "from scipy.misc import derivative\n",
    "import matplotlib as mpl\n",
    "from mpl_toolkits.mplot3d import Axes3D\n",
    "import seaborn as sns\n",
    "import scipy as sp\n",
    "import pandas as pd\n",
    "import statsmodels.api as sm\n",
    "import sklearn as sk"
   ]
  },
  {
   "cell_type": "code",
   "execution_count": 20,
   "metadata": {},
   "outputs": [
    {
     "data": {
      "image/png": "[encoded data removed]",
      "text/plain": [
       "<Figure size 432x288 with 1 Axes>"
      ]
     },
     "metadata": {
      "needs_background": "light"
     },
     "output_type": "display_data"
    }
   ],
   "source": [
    "def f(x):\n",
    "    return x**3-3*x**2+x+6\n",
    "a,b = 0,2\n",
    "x=np.linspace(a-0.5,b+0.5,50)\n",
    "y=f(x)\n",
    "\n",
    "ax = plt.subplot(111)\n",
    "plt.title('example of integral')\n",
    "plt.plot(x,y,'r',linewidth=2)\n",
    "plt.ylim(bottom=0)\n",
    "ix = np.linspace(a,b)\n",
    "iy = f(ix)\n",
    "verts = [(a,0)]+list(zip(ix,iy)) + [(b,0)]\n",
    "poly = Polygon(verts, facecolor='0.9', edgecolor='0.5')\n",
    "ax.add_patch(poly)\n",
    "\n",
    "plt.text(0.5 * (a+b), 0.2*(f(a)+f(b)), r'$\\int_a^b f(x)dx$', horizontalalignment='center', fontsize=20)\n",
    "plt.figtext(0.9, 0.05, '$x$')\n",
    "plt.figtext(0.1, 0.9, '$y$')\n",
    "ax.spines['right'].set_visible(False)\n",
    "ax.spines['top'].set_visible(False)\n",
    "ax.xaxis.set_ticks_position('bottom')\n",
    "ax.set_xticks((a,b))\n",
    "ax.set_xticklabels(('$a$','$b$'))\n",
    "ax.set_yticks([])\n",
    "ax.set_xlim(-2,4)\n",
    "ax.set_ylim(0,8)\n",
    "\n",
    "plt.show()"
   ]
  },
  {
   "cell_type": "markdown",
   "metadata": {},
   "source": [
    "정적분 구하기 방법 1"
   ]
  },
  {
   "cell_type": "code",
   "execution_count": 21,
   "metadata": {},
   "outputs": [
    {
     "data": {
      "text/latex": [
       "$\\displaystyle x^{3} - 3 x^{2} + x + 6$"
      ],
      "text/plain": [
       "x**3 - 3*x**2 + x + 6"
      ]
     },
     "execution_count": 21,
     "metadata": {},
     "output_type": "execute_result"
    }
   ],
   "source": [
    "x,y = sympy.symbols('x y')\n",
    "f = x**3-3*x**2+x+6\n",
    "f"
   ]
  },
  {
   "cell_type": "code",
   "execution_count": 22,
   "metadata": {},
   "outputs": [
    {
     "data": {
      "text/latex": [
       "$\\displaystyle \\frac{x^{4}}{4} - x^{3} + \\frac{x^{2}}{2} + 6 x$"
      ],
      "text/plain": [
       "x**4/4 - x**3 + x**2/2 + 6*x"
      ]
     },
     "execution_count": 22,
     "metadata": {},
     "output_type": "execute_result"
    }
   ],
   "source": [
    "F = sympy.integrate(f)\n",
    "F"
   ]
  },
  {
   "cell_type": "code",
   "execution_count": 23,
   "metadata": {},
   "outputs": [
    {
     "data": {
      "text/latex": [
       "$\\displaystyle 10.0$"
      ],
      "text/plain": [
       "10.0000000000000"
      ]
     },
     "execution_count": 23,
     "metadata": {},
     "output_type": "execute_result"
    }
   ],
   "source": [
    "(F.subs(x,2)-F.subs(x,0)).evalf()"
   ]
  },
  {
   "cell_type": "markdown",
   "metadata": {},
   "source": [
    "정적분 구하기 방법 2(수치적분)"
   ]
  },
  {
   "cell_type": "code",
   "execution_count": 25,
   "metadata": {},
   "outputs": [
    {
     "data": {
      "text/plain": [
       "(10.0, 1.1102230246251565e-13)"
      ]
     },
     "execution_count": 25,
     "metadata": {},
     "output_type": "execute_result"
    }
   ],
   "source": [
    "def f(x):\n",
    "    return x**3 -3*x**2 +x +6\n",
    "sp.integrate.quad(f,0,2)\n",
    "#오른쪽 값은 오차범위.. 1 over 10조.. 즉 오차범위는 없다. "
   ]
  },
  {
   "cell_type": "markdown",
   "metadata": {},
   "source": [
    "4.3.5 연습문제\n",
    "아래 문재들의 정적분 값을 부정적분과 수치적분으로 구해보기. "
   ]
  },
  {
   "cell_type": "markdown",
   "metadata": {},
   "source": [
    "$\\int_{0}^{1}(3x^2-6x+1) dx$"
   ]
  },
  {
   "cell_type": "code",
   "execution_count": 27,
   "metadata": {},
   "outputs": [
    {
     "data": {
      "text/latex": [
       "$\\displaystyle -1$"
      ],
      "text/plain": [
       "-1"
      ]
     },
     "execution_count": 27,
     "metadata": {},
     "output_type": "execute_result"
    }
   ],
   "source": [
    "#정적분 \n",
    "x = sympy.symbols('x')\n",
    "f = 3*x**2-6*x+1 #도함수 공식\n",
    "F = sympy.integrate(f) #도함수 적분 \n",
    "(F.subs(x,1) - F.subs(x,0).evalf()) #정적분 "
   ]
  },
  {
   "cell_type": "code",
   "execution_count": 33,
   "metadata": {},
   "outputs": [
    {
     "data": {
      "text/plain": [
       "(-1.0, 1.3085085171449517e-14)"
      ]
     },
     "execution_count": 33,
     "metadata": {},
     "output_type": "execute_result"
    }
   ],
   "source": [
    "#수치적분 \n",
    "def f(x):\n",
    "    return 3*x**2-6*x+1\n",
    "sp.integrate.quad(f,0,1)"
   ]
  },
  {
   "cell_type": "markdown",
   "metadata": {},
   "source": [
    "$\\int_{1}^{10}(3x^2-6x+1) dx$"
   ]
  },
  {
   "cell_type": "code",
   "execution_count": 34,
   "metadata": {},
   "outputs": [
    {
     "data": {
      "text/latex": [
       "$\\displaystyle 5 \\log{\\left(10 \\right)} + 304.126872686164 + 4 e^{10}$"
      ],
      "text/plain": [
       "5*log(10) + 304.126872686164 + 4*exp(10)"
      ]
     },
     "execution_count": 34,
     "metadata": {},
     "output_type": "execute_result"
    }
   ],
   "source": [
    "#정적분\n",
    "x = sympy.symbols('x')\n",
    "f = 2+(6*x)+(4*sympy.exp(x))+(5/x) #도함수 공식 \n",
    "F = sympy.integrate(f)\n",
    "(F.subs(x,10)-F.subs(x,1).evalf())"
   ]
  },
  {
   "cell_type": "code",
   "execution_count": 35,
   "metadata": {},
   "outputs": [
    {
     "data": {
      "text/plain": [
       "(88421.50297737827, 1.5276890734473408e-06)"
      ]
     },
     "execution_count": 35,
     "metadata": {},
     "output_type": "execute_result"
    }
   ],
   "source": [
    "#수치적분 \n",
    "def f(x):\n",
    "    return 2+(6*x)+(4*sympy.exp(x))+(5/x)\n",
    "sp.integrate.quad(f,1,10)"
   ]
  },
  {
   "cell_type": "markdown",
   "metadata": {},
   "source": [
    "다변수 정적분    \n",
    "입력 변수가 2개인 2차원 함수 f(x,y)의 경우에는 정적문을 당양한 방법으로 정의할 수 있다.    \n",
    "두 변수로 모두 적분하는 것은 2차원 평명에서 주어진 사각형 영역 아래의 부피를 구하는 것과 같다.    "
   ]
  },
  {
   "cell_type": "markdown",
   "metadata": {},
   "source": [
    "$\\int_{y=0}^{y=6}\\int_{x=2}^{x=8}(x^2-10x+y+50) dxdy$"
   ]
  },
  {
   "cell_type": "code",
   "execution_count": 60,
   "metadata": {},
   "outputs": [
    {
     "data": {
      "image/png": "[encoded data removed]",
      "text/plain": [
       "<Figure size 432x288 with 1 Axes>"
      ]
     },
     "metadata": {
      "needs_background": "light"
     },
     "output_type": "display_data"
    }
   ],
   "source": [
    "fig = plt.figure()\n",
    "ax = fig.add_subplot(111,projection='3d')\n",
    "_x = np.arange(12)/2+2\n",
    "_y = np.arange(12)/2\n",
    "X, Y = np.meshgrid(_x,_y)\n",
    "x,y = X.ravel(),Y.ravel()\n",
    "z=x*x-10*x+y+50\n",
    "z0=np.zeros_like(z)\n",
    "ax.bar3d(x,y,z0,0.48,0.48,z)\n",
    "ax.set_xlim(0,10)\n",
    "ax.set_ylim(-2,10)\n",
    "ax.set_zlim(0,50)\n",
    "ax.set_xlabel('x')\n",
    "ax.set_ylabel('y')\n",
    "plt.title('f(x,y)')\n",
    "plt.show()"
   ]
  },
  {
   "cell_type": "code",
   "execution_count": 62,
   "metadata": {},
   "outputs": [
    {
     "data": {
      "text/plain": [
       "(1332.0000000000002, 1.4788170688007088e-11)"
      ]
     },
     "execution_count": 62,
     "metadata": {},
     "output_type": "execute_result"
    }
   ],
   "source": [
    "#이중 적분\n",
    "#x가 2에서 8 그리고 y가 0에서 6인 부분의 부피. \n",
    "def f(x,y):\n",
    "    return x*x-10*x+y+50\n",
    "sp.integrate.dblquad(f,2,8,lambda x:0,lambda x:6)"
   ]
  },
  {
   "cell_type": "markdown",
   "metadata": {},
   "source": [
    "|예제|\n",
    "  $\\int_{y=0}^{y=\\infty}\\int_{x=1}^{x=\\infty}\\frac{exp(-xy)}{y^2} dxdy$"
   ]
  },
  {
   "cell_type": "code",
   "execution_count": 63,
   "metadata": {},
   "outputs": [
    {
     "data": {
      "text/plain": [
       "(0.4999999999999961, 1.0684538743333441e-08)"
      ]
     },
     "execution_count": 63,
     "metadata": {},
     "output_type": "execute_result"
    }
   ],
   "source": [
    "def f(x,y):\n",
    "    return np.exp(-x*y) / y**2\n",
    "\n",
    "sp.integrate.dblquad(f, 1, np.inf, lambda x:0, lambda x:np.inf)"
   ]
  },
  {
   "cell_type": "markdown",
   "metadata": {},
   "source": [
    "4.3.6 연습문제    \n",
    "다음 정적분의 값을 수치적분으로 구하라.    \n",
    "$\\int_{y=-1}^{y=1}\\int_{x=-1}^{x=1}(1+xy)dxdy$"
   ]
  },
  {
   "cell_type": "code",
   "execution_count": 64,
   "metadata": {},
   "outputs": [
    {
     "data": {
      "text/plain": [
       "(4.0, 4.440892098500626e-14)"
      ]
     },
     "execution_count": 64,
     "metadata": {},
     "output_type": "execute_result"
    }
   ],
   "source": [
    "def f(x,y):\n",
    "    return (1+x*y)\n",
    "sp.integrate.dblquad(f,-1,1, lambda x:-1, lambda x:1)"
   ]
  },
  {
   "cell_type": "code",
   "execution_count": null,
   "metadata": {},
   "outputs": [],
   "source": []
  }
 ],
 "metadata": {
  "kernelspec": {
   "display_name": "Python 3",
   "language": "python",
   "name": "python3"
  },
  "language_info": {
   "codemirror_mode": {
    "name": "ipython",
    "version": 3
   },
   "file_extension": ".py",
   "mimetype": "text/x-python",
   "name": "python",
   "nbconvert_exporter": "python",
   "pygments_lexer": "ipython3",
   "version": "3.7.6"
  }
 },
 "nbformat": 4,
 "nbformat_minor": 4
}
