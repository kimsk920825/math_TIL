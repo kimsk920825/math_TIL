{
 "cells": [
  {
   "cell_type": "code",
   "execution_count": 7,
   "metadata": {},
   "outputs": [
    {
     "data": {
      "image/png": "[encoded data removed]",
      "text/plain": [
       "<Figure size 432x288 with 1 Axes>"
      ]
     },
     "metadata": {
      "needs_background": "light"
     },
     "output_type": "display_data"
    }
   ],
   "source": [
    "import numpy as np\n",
    "import matplotlib.pylab as plt\n",
    "\n",
    "black = {'facecolor':'black'}\n",
    "def g(x,y):\n",
    "    return (4*x+6*y-26, 6*x+14*y-54)\n",
    "g1 = g(7,1)\n",
    "g2 = g(2,1)\n",
    "\n",
    "plt.plot(0,0,'kP',ms=10)\n",
    "plt.plot(g1[0],g1[1],'ro',ms=10)\n",
    "plt.annotate('',xy=g1,xytext=(0,0),arrowprops=black)\n",
    "plt.plot(g2[0],g2[1],'ro',ms=10)\n",
    "plt.annotate('',xy=g2,xytext=(0,0),arrowprops=black)\n",
    "\n",
    "plt.axis('equal')\n",
    "plt.show()"
   ]
  },
  {
   "cell_type": "code",
   "execution_count": null,
   "metadata": {},
   "outputs": [],
   "source": []
  }
 ],
 "metadata": {
  "kernelspec": {
   "display_name": "Python 3",
   "language": "python",
   "name": "python3"
  },
  "language_info": {
   "codemirror_mode": {
    "name": "ipython",
    "version": 3
   },
   "file_extension": ".py",
   "mimetype": "text/x-python",
   "name": "python",
   "nbconvert_exporter": "python",
   "pygments_lexer": "ipython3",
   "version": "3.7.6"
  }
 },
 "nbformat": 4,
 "nbformat_minor": 4
}
